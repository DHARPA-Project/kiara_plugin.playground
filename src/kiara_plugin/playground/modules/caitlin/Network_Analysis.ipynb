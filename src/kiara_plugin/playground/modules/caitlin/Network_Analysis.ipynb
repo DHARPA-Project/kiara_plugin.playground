{
 "cells": [
  {
   "cell_type": "markdown",
   "id": "80e45108",
   "metadata": {},
   "source": [
    "<h2><i>kiara</i>: Network Analysis</h2>\n",
    "\n",
    "Welcome back! Now that we're comfortable with what <i>kiara</i> looks like and what it can do to help track your data and your research process, let's try out some of the digital analysis tools, starting with <b>Network Analysis</b>.\n",
    "\n",
    "<h2>Why Network Analysis?</h2>\n",
    "\n",
    "Network Analysis offers a computational and quantitative means to examine and explore relational objects, with proxies to measure structural roles and concepts such as power and influence. Doing so digitally - and at scale -also allows us to consider these kinds of questions with large amounts of material or documents that could not be heretofore managed with qualitative approaches.\n",
    "\n",
    "<h3>Getting Started</h3>\n",
    "\n",
    "Let's start by double checking that we have all the required plugins and setting up an API for us to use <i>kiara</i>. We'll do this all in one go this time, but if you're unsure, feel free to head back to the [installation notebook] (http://dharpa.org/kiara.documentation/latest/workshop/workshop/) to look over this section again."
   ]
  },
  {
   "cell_type": "code",
   "execution_count": null,
   "id": "bc1ca397",
   "metadata": {},
   "outputs": [],
   "source": [
    "import csv\n",
    "import networkx as nx\n",
    "import matplotlib.pyplot as plt\n",
    "\n",
    "try:\n",
    "    from kiara_plugin.jupyter import ensure_kiara_plugins\n",
    "except:\n",
    "    import sys\n",
    "    print(\"Installing 'kiara_plugin.jupyter'...\")\n",
    "    !{sys.executable} -m pip install -q kiara_plugin.jupyter\n",
    "    from kiara_plugin.jupyter import ensure_kiara_plugins\n",
    "\n",
    "ensure_kiara_plugins()\n",
    "\n",
    "from kiara.api import KiaraAPI\n",
    "kiara = KiaraAPI.instance()"
   ]
  },
  {
   "cell_type": "markdown",
   "id": "df817d67",
   "metadata": {},
   "source": [
    "Great, we're all set up. Let's download some sample data for our network analysis: this is some epistolary data taken from the <i>State Papers of England</i> between 1534-1540. \n",
    "\n",
    "<span style=\"color:blue\">insert links for references when needed</span> \n",
    "\n",
    "As before, we can use the <i>kiara</i> function `download.file` to access our material, specifying the <span style=\"color:green\">inputs</span> and runnning the function as our <span style=\"color:red\">outputs</span>."
   ]
  },
  {
   "cell_type": "code",
   "execution_count": null,
   "id": "7a7ca06b",
   "metadata": {},
   "outputs": [],
   "source": [
    "inputs = {\n",
    "        \"url\": \"https://raw.githubusercontent.com/CBurge95/kiara.documentation/develop/examples/data/1534-1540_copy.csv\",\n",
    "        \"file_name\": \"1534-1540.csv\"\n",
    "}\n",
    "\n",
    "outputs = kiara.run_job('download.file', inputs=inputs)\n",
    "\n",
    "outputs"
   ]
  },
  {
   "cell_type": "markdown",
   "id": "b60ed7f3",
   "metadata": {},
   "source": [
    "<h2>Creating a Network</h2>\n",
    "\n",
    "Time to make our network from this data. Let's start by searching for the <i>kiara</i> modules that are included in the `kiara_plugin.network_analysis` package."
   ]
  },
  {
   "cell_type": "code",
   "execution_count": null,
   "id": "b8b0a3b1",
   "metadata": {},
   "outputs": [],
   "source": [
    "infos = metadata = kiara.retrieve_operations_info()\n",
    "operations = {}\n",
    "for op_id, info in infos.item_infos.items():\n",
    "    if info.context.labels.get(\"package\", None) == \"kiara_plugin.network_analysis\":\n",
    "        operations[op_id] = info\n",
    "\n",
    "print(operations.keys())"
   ]
  },
  {
   "cell_type": "markdown",
   "id": "65b7eb75",
   "metadata": {},
   "source": [
    "There's lots of options for analysis, but we want to make our network first. Let's have a look what we need with the function `create.network_data.from.tables` using `kiara.retrieve_operation_info` once more.\n",
    "\n",
    "<span style=\"color:blue\">this will make more sense/have more options when analysis modules are incorporated into the network plugin</span>"
   ]
  },
  {
   "cell_type": "code",
   "execution_count": null,
   "id": "1d3a1480",
   "metadata": {},
   "outputs": [],
   "source": [
    "kiara.retrieve_operation_info('create.network_data.from.tables')"
   ]
  },
  {
   "cell_type": "markdown",
   "id": "cdceb572",
   "metadata": {},
   "source": [
    "Like other network analysis tools, <i>kiara</i> first needs the data as an edge table. This means we first have to transform the data we downloaded earlier into a table before we can create the network data. Let's start by using the `create.table.from.file` function that we used in the first notebook and storing this as our <b>edges</b>, then use this to create our network data using the `create.network_data.from.tables` that we just read about. In this, we are defining two different sets of <span style=\"color:green\">inputs</span>, overriding the first variable once we have used it to create our table.\n",
    "\n",
    "We're going to be using the network data quite a lot in the rest of the notebook, so lets store the output for this function as <b>network_data</b>. We can import a separate table with the nodes in, but this is optional, and for the moment let's stick with just the edge table."
   ]
  },
  {
   "cell_type": "code",
   "execution_count": null,
   "id": "b946d993",
   "metadata": {
    "scrolled": false
   },
   "outputs": [],
   "source": [
    "inputs = {\n",
    "    \"file\": outputs['file']\n",
    "}\n",
    "\n",
    "outputs = kiara.run_job('create.table.from.file', inputs=inputs)\n",
    "\n",
    "edges = outputs['table']\n",
    "\n",
    "inputs = {\n",
    "    'edges' : edges,\n",
    "    'source_column_name' : 'Source',\n",
    "    'target_column_name' : 'Target'\n",
    "}\n",
    "\n",
    "network = kiara.run_job('create.network_data.from.tables', inputs=inputs)\n",
    "network_data = network['network_data']\n",
    "network"
   ]
  },
  {
   "cell_type": "markdown",
   "id": "2d4acd0c",
   "metadata": {},
   "source": [
    "Now we've successfully transformed our downloaded into a table and created some network data from it - presented as a list of <b>edges</b> and a list of <b>nodes</b> - we can find out some more information about the network we have created. Let's have a look at the options for `get.network_info`."
   ]
  },
  {
   "cell_type": "code",
   "execution_count": null,
   "id": "9122bb4f",
   "metadata": {},
   "outputs": [],
   "source": [
    "kiara.retrieve_operation_info('get.network_info')"
   ]
  },
  {
   "cell_type": "markdown",
   "id": "8801e49e",
   "metadata": {},
   "source": [
    "So here we just need to add the network data that we want to find out about. We can also use this as an opportunity to make our network data into a <b>directed network</b>, or leave it as an <b>undirected network</b> as the default. \n",
    "\n",
    "Let's leave it as is for the moment, and see what information we can gather.\n",
    "\n",
    "This time, we're going to define the inputs within the `kiara.run_job` function, and print this immediately, rather than storing it in a variable."
   ]
  },
  {
   "cell_type": "code",
   "execution_count": null,
   "id": "b3b5a0b4",
   "metadata": {
    "scrolled": false
   },
   "outputs": [],
   "source": [
    "kiara.run_job('get.network_info', inputs={'network_data':network_data})"
   ]
  },
  {
   "cell_type": "markdown",
   "id": "7b7c753f",
   "metadata": {},
   "source": [
    "<h2>Network Analysis: Statistical Measures</h2>"
   ]
  },
  {
   "cell_type": "code",
   "execution_count": null,
   "id": "41b57ee2",
   "metadata": {},
   "outputs": [],
   "source": [
    "kiara.retrieve_operation_info('create.degree_rank_list')"
   ]
  },
  {
   "cell_type": "code",
   "execution_count": null,
   "id": "41d2bcaa",
   "metadata": {},
   "outputs": [],
   "source": [
    "output = kiara.run_job('create.degree_rank_list', inputs={'network_data':network_data})\n",
    "\n",
    "output"
   ]
  },
  {
   "cell_type": "code",
   "execution_count": null,
   "id": "e4983bc2",
   "metadata": {},
   "outputs": [],
   "source": [
    "inputs = {\n",
    "    \"table\": output['network_result'],\n",
    "    \"query\": \"SELECT * from data where Score BETWEEN 20 AND 75\"\n",
    "}\n",
    "\n",
    "query = kiara.run_job('query.table', inputs=inputs)\n",
    "\n",
    "query"
   ]
  },
  {
   "cell_type": "code",
   "execution_count": null,
   "id": "4a4ee581",
   "metadata": {},
   "outputs": [],
   "source": [
    "kiara.retrieve_operation_info('create.betweenness_rank_list')"
   ]
  },
  {
   "cell_type": "code",
   "execution_count": null,
   "id": "6c4f451b",
   "metadata": {},
   "outputs": [],
   "source": [
    "output = kiara.run_job('create.betweenness_rank_list', inputs={'network_data':network_data})\n",
    "\n",
    "output"
   ]
  },
  {
   "cell_type": "code",
   "execution_count": null,
   "id": "5fbcee7e",
   "metadata": {},
   "outputs": [],
   "source": [
    "kiara.retrieve_operation_info('create.eigenvector_rank_list')"
   ]
  },
  {
   "cell_type": "code",
   "execution_count": null,
   "id": "4779dfd3",
   "metadata": {
    "scrolled": true
   },
   "outputs": [],
   "source": [
    "output = kiara.run_job('create.eigenvector_rank_list', inputs={'network_data':network_data})\n",
    "\n",
    "output"
   ]
  },
  {
   "cell_type": "code",
   "execution_count": null,
   "id": "0e82b2b0",
   "metadata": {},
   "outputs": [],
   "source": [
    "kiara.retrieve_operation_info('create.closeness_rank_list')"
   ]
  },
  {
   "cell_type": "code",
   "execution_count": null,
   "id": "58223bed",
   "metadata": {},
   "outputs": [],
   "source": [
    "output = kiara.run_job('create.closeness_rank_list', inputs={'network_data':network_data})\n",
    "\n",
    "output"
   ]
  },
  {
   "cell_type": "code",
   "execution_count": null,
   "id": "2d5ca9d6",
   "metadata": {},
   "outputs": [],
   "source": []
  },
  {
   "cell_type": "code",
   "execution_count": null,
   "id": "9a450117",
   "metadata": {},
   "outputs": [],
   "source": [
    "kiara.retrieve_operation_info('create.cut_point_list')"
   ]
  },
  {
   "cell_type": "code",
   "execution_count": null,
   "id": "396edfde",
   "metadata": {
    "scrolled": false
   },
   "outputs": [],
   "source": [
    "output = kiara.run_job('create.cut_point_list', inputs={'network_data':network_data})\n",
    "\n",
    "output"
   ]
  },
  {
   "cell_type": "code",
   "execution_count": null,
   "id": "c0c29112",
   "metadata": {},
   "outputs": [],
   "source": [
    "kiara.retrieve_operation_info('export.network_data.as.graphml_file')"
   ]
  }
 ],
 "metadata": {
  "kernelspec": {
   "display_name": "Python 3 (ipykernel)",
   "language": "python",
   "name": "python3"
  },
  "language_info": {
   "codemirror_mode": {
    "name": "ipython",
    "version": 3
   },
   "file_extension": ".py",
   "mimetype": "text/x-python",
   "name": "python",
   "nbconvert_exporter": "python",
   "pygments_lexer": "ipython3",
   "version": "3.9.16"
  }
 },
 "nbformat": 4,
 "nbformat_minor": 5
}
