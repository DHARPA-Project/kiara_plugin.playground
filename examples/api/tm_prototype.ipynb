{
 "cells": [
  {
   "cell_type": "code",
   "execution_count": 3,
   "metadata": {},
   "outputs": [],
   "source": [
    "from kiara import KiaraAPI, Kiara\n",
    "import networkx\n",
    "from networkx.readwrite import json_graph"
   ]
  },
  {
   "cell_type": "code",
   "execution_count": 4,
   "metadata": {},
   "outputs": [],
   "source": [
    "kiara = Kiara.instance()\n",
    "api = KiaraAPI(kiara=kiara)"
   ]
  },
  {
   "cell_type": "markdown",
   "metadata": {},
   "source": [
    "Process based on Kiara Python API v.0.4.18 "
   ]
  },
  {
   "cell_type": "code",
   "execution_count": 5,
   "metadata": {},
   "outputs": [],
   "source": [
    "# choose alias for forkflow\n",
    "workflow_alias = 'test220014'"
   ]
  },
  {
   "cell_type": "markdown",
   "metadata": {},
   "source": [
    "## I. Onboarding"
   ]
  },
  {
   "cell_type": "markdown",
   "metadata": {},
   "source": [
    "This step processes text files located in a folder or in a folder with sub-folders to transform them into a table and store this table in data registry. "
   ]
  },
  {
   "cell_type": "code",
   "execution_count": 6,
   "metadata": {},
   "outputs": [],
   "source": [
    "folder_path = '/Users/mariella.decrouychan/Documents/GitHub/kiara_plugin.playground/examples/data/CI_newspaper_subcorpora'"
   ]
  },
  {
   "cell_type": "code",
   "execution_count": 7,
   "metadata": {},
   "outputs": [],
   "source": [
    "onboarding_result = api.run_job(operation=\"tm_onboarding\", inputs={'folder_path':folder_path})"
   ]
  },
  {
   "cell_type": "code",
   "execution_count": 8,
   "metadata": {},
   "outputs": [
    {
     "data": {
      "text/plain": [
       "StoreValueResult(value=Value(id=8a45f453-78a5-452f-bb0f-6b95f6670e75, type=table, status=set, initialized=True optional=False), aliases=['tm_onboard_test220014'], persisted_data=PersistedData(model_id=zdpuAmhaJ6dYBTwDaoY71G5q2QJ2Ceh1mEqF351jQc8x3czrn, category=instance.persisted_data, fields=[data_type, data_type_config, serialization_profile, metadata, hash_codec, archive_id, chunk_id_map]), error=None)"
      ]
     },
     "execution_count": 8,
     "metadata": {},
     "output_type": "execute_result"
    }
   ],
   "source": [
    "table = onboarding_result[\"corpus_table\"]\n",
    "api.store_value(table, f'tm_onboard_{workflow_alias}')"
   ]
  },
  {
   "cell_type": "code",
   "execution_count": 9,
   "metadata": {},
   "outputs": [
    {
     "name": "stdout",
     "output_type": "stream",
     "text": [
      "\n",
      "╭─ Available aliases ──────────────────────────────────────────────────────────╮\n",
      "│                                                                              │\n",
      "│  \u001b[1m \u001b[0m\u001b[1malias                \u001b[0m\u001b[1m \u001b[0m \u001b[1m \u001b[0m\u001b[1mtype \u001b[0m\u001b[1m \u001b[0m \u001b[1m \u001b[0m\u001b[1m    size\u001b[0m\u001b[1m \u001b[0m                                  │\n",
      "│  ──────────────────────────────────────────                                  │\n",
      "│   tm_onboard_test220014   table   16.06 MB                                   │\n",
      "│                                                                              │\n",
      "╰──────────────────────────────────────────────────────────────────────────────╯\n"
     ]
    }
   ],
   "source": [
    "# checking how that would appear in CLI\n",
    "! kiara data list"
   ]
  },
  {
   "cell_type": "code",
   "execution_count": 11,
   "metadata": {},
   "outputs": [
    {
     "data": {
      "text/html": [
       "<pre style=\"white-space:pre;overflow-x:auto;line-height:normal;font-family:Menlo,'DejaVu Sans Mono',consolas,'Courier New',monospace\">                                                                                                                                            \n",
       " <span style=\"font-style: italic\"> value_id          </span>  8a45f453-78a5-452f-bb0f-6b95f6670e75                                                                                  \n",
       " <span style=\"font-style: italic\"> kiara_id          </span>  4dbc4b51-3365-4d84-b917-e9e6dbbe5097                                                                                  \n",
       " <span style=\"font-style: italic\">                   </span>                                                                                                                        \n",
       " <span style=\"font-style: italic\">                   </span>  <span style=\"color: #00ff00; text-decoration-color: #00ff00\">────────────────────────────────────────────────────────────────────────────────────────────────────────────────────</span>  \n",
       " <span style=\"font-style: italic\"> data_type_info    </span>                                                                                                                        \n",
       " <span style=\"font-style: italic\">                   </span>   <span style=\"font-style: italic\"> data_type_name   </span>  table                                                                                            \n",
       " <span style=\"font-style: italic\">                   </span>   <span style=\"font-style: italic\"> data_type_config </span>  {}                                                                                               \n",
       " <span style=\"font-style: italic\">                   </span>   <span style=\"font-style: italic\"> characteristics  </span>  {                                                                                                \n",
       " <span style=\"font-style: italic\">                   </span>   <span style=\"font-style: italic\">                  </span>    \"is_scalar\": false,                                                                            \n",
       " <span style=\"font-style: italic\">                   </span>   <span style=\"font-style: italic\">                  </span>    \"is_json_serializable\": false                                                                  \n",
       " <span style=\"font-style: italic\">                   </span>   <span style=\"font-style: italic\">                  </span>  }                                                                                                \n",
       " <span style=\"font-style: italic\">                   </span>   <span style=\"font-style: italic\"> data_type_class  </span>                                                                                                   \n",
       " <span style=\"font-style: italic\">                   </span>   <span style=\"font-style: italic\">                  </span>   <span style=\"font-style: italic\"> python_class_name  </span>  TableType                                                                 \n",
       " <span style=\"font-style: italic\">                   </span>   <span style=\"font-style: italic\">                  </span>   <span style=\"font-style: italic\"> python_module_name </span>  kiara_plugin.tabular.data_types.table                                     \n",
       " <span style=\"font-style: italic\">                   </span>   <span style=\"font-style: italic\">                  </span>   <span style=\"font-style: italic\"> full_name          </span>  kiara_plugin.tabular.data_types.table.TableType                           \n",
       " <span style=\"font-style: italic\">                   </span>   <span style=\"font-style: italic\">                  </span>                                                                                                   \n",
       " <span style=\"font-style: italic\">                   </span>                                                                                                                        \n",
       " <span style=\"font-style: italic\"> destiny_backlinks </span>  {}                                                                                                                    \n",
       " <span style=\"font-style: italic\"> enviroments       </span>  None                                                                                                                  \n",
       " <span style=\"font-style: italic\"> property_links    </span>  {                                                                                                                     \n",
       " <span style=\"font-style: italic\">                   </span>    \"metadata.python_class\": \"45b4b0aa-13b5-4d2d-93df-7549e5b86af5\",                                                    \n",
       " <span style=\"font-style: italic\">                   </span>    \"metadata.table\": \"51396220-08c3-42ba-a7e8-df1b88d5120a\"                                                            \n",
       " <span style=\"font-style: italic\">                   </span>  }                                                                                                                     \n",
       " <span style=\"font-style: italic\"> value_hash        </span>  zdpuAmhaJ6dYBTwDaoY71G5q2QJ2Ceh1mEqF351jQc8x3czrn                                                                     \n",
       " <span style=\"font-style: italic\"> value_schema      </span>                                                                                                                        \n",
       " <span style=\"font-style: italic\">                   </span>   <span style=\"font-style: italic\"> type        </span>  table                                                                                                 \n",
       " <span style=\"font-style: italic\">                   </span>   <span style=\"font-style: italic\"> type_config </span>  {}                                                                                                    \n",
       " <span style=\"font-style: italic\">                   </span>   <span style=\"font-style: italic\"> default     </span>  __not_set__                                                                                           \n",
       " <span style=\"font-style: italic\">                   </span>   <span style=\"font-style: italic\"> optional    </span>  False                                                                                                 \n",
       " <span style=\"font-style: italic\">                   </span>   <span style=\"font-style: italic\"> is_constant </span>  False                                                                                                 \n",
       " <span style=\"font-style: italic\">                   </span>   <span style=\"font-style: italic\"> doc         </span>  The result value.                                                                                     \n",
       " <span style=\"font-style: italic\">                   </span>                                                                                                                        \n",
       " <span style=\"font-style: italic\"> value_size        </span>  16.06 MB                                                                                                              \n",
       " <span style=\"font-style: italic\"> value_status      </span>  <span style=\"font-style: italic\">-- set --</span>                                                                                                             \n",
       "                                                                                                                                            \n",
       "</pre>\n"
      ],
      "text/plain": [
       "                                                                                                                                            \n",
       " \u001b[3m \u001b[0m\u001b[3mvalue_id         \u001b[0m\u001b[3m \u001b[0m  8a45f453-78a5-452f-bb0f-6b95f6670e75                                                                                  \n",
       " \u001b[3m \u001b[0m\u001b[3mkiara_id         \u001b[0m\u001b[3m \u001b[0m  4dbc4b51-3365-4d84-b917-e9e6dbbe5097                                                                                  \n",
       " \u001b[3m \u001b[0m\u001b[3m                 \u001b[0m\u001b[3m \u001b[0m                                                                                                                        \n",
       " \u001b[3m \u001b[0m\u001b[3m                 \u001b[0m\u001b[3m \u001b[0m  \u001b[92m────────────────────────────────────────────────────────────────────────────────────────────────────────────────────\u001b[0m  \n",
       " \u001b[3m \u001b[0m\u001b[3mdata_type_info   \u001b[0m\u001b[3m \u001b[0m                                                                                                                        \n",
       " \u001b[3m                   \u001b[0m   \u001b[3m \u001b[0m\u001b[3mdata_type_name  \u001b[0m\u001b[3m \u001b[0m  table                                                                                            \n",
       " \u001b[3m                   \u001b[0m   \u001b[3m \u001b[0m\u001b[3mdata_type_config\u001b[0m\u001b[3m \u001b[0m  {}                                                                                               \n",
       " \u001b[3m                   \u001b[0m   \u001b[3m \u001b[0m\u001b[3mcharacteristics \u001b[0m\u001b[3m \u001b[0m  {                                                                                                \n",
       " \u001b[3m                   \u001b[0m   \u001b[3m                  \u001b[0m    \"is_scalar\": false,                                                                            \n",
       " \u001b[3m                   \u001b[0m   \u001b[3m                  \u001b[0m    \"is_json_serializable\": false                                                                  \n",
       " \u001b[3m                   \u001b[0m   \u001b[3m                  \u001b[0m  }                                                                                                \n",
       " \u001b[3m                   \u001b[0m   \u001b[3m \u001b[0m\u001b[3mdata_type_class \u001b[0m\u001b[3m \u001b[0m                                                                                                   \n",
       " \u001b[3m                   \u001b[0m   \u001b[3m                  \u001b[0m   \u001b[3m \u001b[0m\u001b[3mpython_class_name \u001b[0m\u001b[3m \u001b[0m  TableType                                                                 \n",
       " \u001b[3m                   \u001b[0m   \u001b[3m                  \u001b[0m   \u001b[3m \u001b[0m\u001b[3mpython_module_name\u001b[0m\u001b[3m \u001b[0m  kiara_plugin.tabular.data_types.table                                     \n",
       " \u001b[3m                   \u001b[0m   \u001b[3m                  \u001b[0m   \u001b[3m \u001b[0m\u001b[3mfull_name         \u001b[0m\u001b[3m \u001b[0m  kiara_plugin.tabular.data_types.table.TableType                           \n",
       " \u001b[3m                   \u001b[0m   \u001b[3m                  \u001b[0m                                                                                                   \n",
       " \u001b[3m                   \u001b[0m                                                                                                                        \n",
       " \u001b[3m \u001b[0m\u001b[3mdestiny_backlinks\u001b[0m\u001b[3m \u001b[0m  {}                                                                                                                    \n",
       " \u001b[3m \u001b[0m\u001b[3menviroments      \u001b[0m\u001b[3m \u001b[0m  None                                                                                                                  \n",
       " \u001b[3m \u001b[0m\u001b[3mproperty_links   \u001b[0m\u001b[3m \u001b[0m  {                                                                                                                     \n",
       " \u001b[3m                   \u001b[0m    \"metadata.python_class\": \"45b4b0aa-13b5-4d2d-93df-7549e5b86af5\",                                                    \n",
       " \u001b[3m                   \u001b[0m    \"metadata.table\": \"51396220-08c3-42ba-a7e8-df1b88d5120a\"                                                            \n",
       " \u001b[3m                   \u001b[0m  }                                                                                                                     \n",
       " \u001b[3m \u001b[0m\u001b[3mvalue_hash       \u001b[0m\u001b[3m \u001b[0m  zdpuAmhaJ6dYBTwDaoY71G5q2QJ2Ceh1mEqF351jQc8x3czrn                                                                     \n",
       " \u001b[3m \u001b[0m\u001b[3mvalue_schema     \u001b[0m\u001b[3m \u001b[0m                                                                                                                        \n",
       " \u001b[3m                   \u001b[0m   \u001b[3m \u001b[0m\u001b[3mtype       \u001b[0m\u001b[3m \u001b[0m  table                                                                                                 \n",
       " \u001b[3m                   \u001b[0m   \u001b[3m \u001b[0m\u001b[3mtype_config\u001b[0m\u001b[3m \u001b[0m  {}                                                                                                    \n",
       " \u001b[3m                   \u001b[0m   \u001b[3m \u001b[0m\u001b[3mdefault    \u001b[0m\u001b[3m \u001b[0m  __not_set__                                                                                           \n",
       " \u001b[3m                   \u001b[0m   \u001b[3m \u001b[0m\u001b[3moptional   \u001b[0m\u001b[3m \u001b[0m  False                                                                                                 \n",
       " \u001b[3m                   \u001b[0m   \u001b[3m \u001b[0m\u001b[3mis_constant\u001b[0m\u001b[3m \u001b[0m  False                                                                                                 \n",
       " \u001b[3m                   \u001b[0m   \u001b[3m \u001b[0m\u001b[3mdoc        \u001b[0m\u001b[3m \u001b[0m  The result value.                                                                                     \n",
       " \u001b[3m                   \u001b[0m                                                                                                                        \n",
       " \u001b[3m \u001b[0m\u001b[3mvalue_size       \u001b[0m\u001b[3m \u001b[0m  16.06 MB                                                                                                              \n",
       " \u001b[3m \u001b[0m\u001b[3mvalue_status     \u001b[0m\u001b[3m \u001b[0m  \u001b[3m-- set --\u001b[0m                                                                                                             \n",
       "                                                                                                                                            \n"
      ]
     },
     "execution_count": 11,
     "metadata": {},
     "output_type": "execute_result"
    }
   ],
   "source": [
    "api.get_value_info('tm_onboard_test220014')"
   ]
  },
  {
   "cell_type": "code",
   "execution_count": 13,
   "metadata": {},
   "outputs": [
    {
     "data": {
      "text/html": [
       "<pre style=\"white-space:pre;overflow-x:auto;line-height:normal;font-family:Menlo,'DejaVu Sans Mono',consolas,'Courier New',monospace\">                                                                                                                                            \n",
       " <span style=\"font-style: italic\">Documentation    </span>                                                                                                                          \n",
       " <span style=\"font-style: italic\">                 </span>   topic modelling pipeline                                                                                               \n",
       " <span style=\"font-style: italic\">                 </span>                                                                                                                          \n",
       " <span style=\"font-style: italic\">Author(s)        </span>                                                                                                                          \n",
       " <span style=\"font-style: italic\">                 </span>   Markus Binsteiner  <span style=\"font-style: italic\"> markus@frkl.io </span>                                                                                    \n",
       " <span style=\"font-style: italic\">                 </span>                                                                                                                          \n",
       " <span style=\"font-style: italic\">Context          </span>                                                                                                                          \n",
       " <span style=\"font-style: italic\">                 </span>  <span style=\"font-style: italic\"> Labels     </span>  <span style=\"font-style: italic\">package</span>: kiara                                                                                            \n",
       " <span style=\"font-style: italic\">                 </span>  <span style=\"font-style: italic\"> References </span>  <span style=\"font-style: italic\">source_repo</span>: <a href=\"https://github.com/DHARPA-Project/kiara\" target=\"_blank\">https://github.com/DHARPA-Project/kiara</a>                                                      \n",
       " <span style=\"font-style: italic\">                 </span>  <span style=\"font-style: italic\">            </span>  <span style=\"font-style: italic\">documentation</span>: <a href=\"https://dharpa.org/kiara_documentation/\" target=\"_blank\">https://dharpa.org/kiara_documentation/</a>                                                    \n",
       " <span style=\"font-style: italic\">                 </span>                                                                                                                          \n",
       " <span style=\"font-style: italic\">Operation details</span>                                                                                                                          \n",
       " <span style=\"font-style: italic\">                 </span>  <span style=\"font-style: italic\"> Documentation </span>  topic modelling pipeline                                                                               \n",
       " <span style=\"font-style: italic\">                 </span>                                                                                                                          \n",
       " <span style=\"font-style: italic\">                 </span>  <span style=\"font-style: italic\"> Inputs        </span>                                                                                                         \n",
       " <span style=\"font-style: italic\">                 </span>  <span style=\"font-style: italic\">               </span>   <span style=\"font-weight: bold\"> field name                  </span> <span style=\"font-weight: bold\"> type   </span> <span style=\"font-weight: bold\"> description                 </span> <span style=\"font-weight: bold\"> Required </span> <span style=\"font-weight: bold\"> Default          </span>    \n",
       " <span style=\"font-style: italic\">                 </span>  <span style=\"font-style: italic\">               </span>   ──────────────────────────────────────────────────────────────────────────────────────────────────    \n",
       " <span style=\"font-style: italic\">                 </span>  <span style=\"font-style: italic\">               </span>   <span style=\"font-style: italic\"> folder_path                 </span>  string   The local path of the         <span style=\"font-weight: bold\">yes</span>        -- no default --     \n",
       " <span style=\"font-style: italic\">                 </span>  <span style=\"font-style: italic\">               </span>   <span style=\"font-style: italic\">                             </span>           folder to import.                                             \n",
       " <span style=\"font-style: italic\">                 </span>  <span style=\"font-style: italic\">               </span>   <span style=\"font-style: italic\"> add_metadata__column_name   </span>  string   The column containing         <span style=\"font-weight: bold\">yes</span>        -- no default --     \n",
       " <span style=\"font-style: italic\">                 </span>  <span style=\"font-style: italic\">               </span>   <span style=\"font-style: italic\">                             </span>           metadata. In order to work,                                   \n",
       " <span style=\"font-style: italic\">                 </span>  <span style=\"font-style: italic\">               </span>   <span style=\"font-style: italic\">                             </span>           file names need to comply                                     \n",
       " <span style=\"font-style: italic\">                 </span>  <span style=\"font-style: italic\">               </span>   <span style=\"font-style: italic\">                             </span>           with LCCN pattern                                             \n",
       " <span style=\"font-style: italic\">                 </span>  <span style=\"font-style: italic\">               </span>   <span style=\"font-style: italic\">                             </span>           '/sn86069873/1900-01-05/'                                     \n",
       " <span style=\"font-style: italic\">                 </span>  <span style=\"font-style: italic\">               </span>   <span style=\"font-style: italic\">                             </span>           containing publication                                        \n",
       " <span style=\"font-style: italic\">                 </span>  <span style=\"font-style: italic\">               </span>   <span style=\"font-style: italic\">                             </span>           reference and date.                                           \n",
       " <span style=\"font-style: italic\">                 </span>  <span style=\"font-style: italic\">               </span>   <span style=\"font-style: italic\"> add_publication_name__table </span>  table    The table that we need to     <span style=\"font-weight: bold\">yes</span>        -- no default --     \n",
       " <span style=\"font-style: italic\">                 </span>  <span style=\"font-style: italic\">               </span>   <span style=\"font-style: italic\"> _input                      </span>           augment by mapping column                                     \n",
       " <span style=\"font-style: italic\">                 </span>  <span style=\"font-style: italic\">               </span>   <span style=\"font-style: italic\">                             </span>           values (for example an id                                     \n",
       " <span style=\"font-style: italic\">                 </span>  <span style=\"font-style: italic\">               </span>   <span style=\"font-style: italic\">                             </span>           with a name) in a new                                         \n",
       " <span style=\"font-style: italic\">                 </span>  <span style=\"font-style: italic\">               </span>   <span style=\"font-style: italic\">                             </span>           column.                                                       \n",
       " <span style=\"font-style: italic\">                 </span>  <span style=\"font-style: italic\">               </span>   <span style=\"font-style: italic\"> add_publication_name__colum </span>  string   The column that needs         <span style=\"font-weight: bold\">yes</span>        -- no default --     \n",
       " <span style=\"font-style: italic\">                 </span>  <span style=\"font-style: italic\">               </span>   <span style=\"font-style: italic\"> n_name                      </span>           mapping.                                                      \n",
       " <span style=\"font-style: italic\">                 </span>  <span style=\"font-style: italic\">               </span>   <span style=\"font-style: italic\"> add_publication_name__mappi </span>  list     list containing 2 lists:      <span style=\"font-weight: bold\">yes</span>        -- no default --     \n",
       " <span style=\"font-style: italic\">                 </span>  <span style=\"font-style: italic\">               </span>   <span style=\"font-style: italic\"> ng_keys                     </span>           1st list contains values to                                   \n",
       " <span style=\"font-style: italic\">                 </span>  <span style=\"font-style: italic\">               </span>   <span style=\"font-style: italic\">                             </span>           replace, and the second the                                   \n",
       " <span style=\"font-style: italic\">                 </span>  <span style=\"font-style: italic\">               </span>   <span style=\"font-style: italic\">                             </span>           ones they should be                                           \n",
       " <span style=\"font-style: italic\">                 </span>  <span style=\"font-style: italic\">               </span>   <span style=\"font-style: italic\">                             </span>           replaced with.                                                \n",
       " <span style=\"font-style: italic\">                 </span>  <span style=\"font-style: italic\">               </span>   <span style=\"font-style: italic\"> add_publication_name__outpu </span>  string   name of the newly created     <span style=\"font-weight: bold\">yes</span>        -- no default --     \n",
       " <span style=\"font-style: italic\">                 </span>  <span style=\"font-style: italic\">               </span>   <span style=\"font-style: italic\"> t_col_name                  </span>           column                                                        \n",
       " <span style=\"font-style: italic\">                 </span>  <span style=\"font-style: italic\">               </span>                                                                                                         \n",
       " <span style=\"font-style: italic\">                 </span>                                                                                                                          \n",
       " <span style=\"font-style: italic\">                 </span>  <span style=\"font-style: italic\"> Outputs       </span>                                                                                                         \n",
       " <span style=\"font-style: italic\">                 </span>  <span style=\"font-style: italic\">               </span>   <span style=\"font-weight: bold\"> field name        </span> <span style=\"font-weight: bold\"> type  </span> <span style=\"font-weight: bold\"> description                                                          </span>    \n",
       " <span style=\"font-style: italic\">                 </span>  <span style=\"font-style: italic\">               </span>   ──────────────────────────────────────────────────────────────────────────────────────────────────    \n",
       " <span style=\"font-style: italic\">                 </span>  <span style=\"font-style: italic\">               </span>   <span style=\"font-style: italic\"> corpus_table      </span>  table   The result value.                                                        \n",
       " <span style=\"font-style: italic\">                 </span>  <span style=\"font-style: italic\">               </span>   <span style=\"font-style: italic\"> publications_refs </span>  list    List of unique publications refs in table.                               \n",
       " <span style=\"font-style: italic\">                 </span>  <span style=\"font-style: italic\">               </span>                                                                                                         \n",
       " <span style=\"font-style: italic\">                 </span>                                                                                                                          \n",
       "                                                                                                                                            \n",
       "</pre>\n"
      ],
      "text/plain": [
       "                                                                                                                                            \n",
       " \u001b[3mDocumentation    \u001b[0m                                                                                                                          \n",
       " \u001b[3m                 \u001b[0m   topic modelling pipeline                                                                                               \n",
       " \u001b[3m                 \u001b[0m                                                                                                                          \n",
       " \u001b[3mAuthor(s)        \u001b[0m                                                                                                                          \n",
       " \u001b[3m                 \u001b[0m   Markus Binsteiner  \u001b[3m \u001b[0m\u001b[3mmarkus@frkl.io\u001b[0m\u001b[3m \u001b[0m                                                                                    \n",
       " \u001b[3m                 \u001b[0m                                                                                                                          \n",
       " \u001b[3mContext          \u001b[0m                                                                                                                          \n",
       " \u001b[3m                 \u001b[0m  \u001b[3m \u001b[0m\u001b[3mLabels    \u001b[0m\u001b[3m \u001b[0m  \u001b[3mpackage\u001b[0m: kiara                                                                                            \n",
       " \u001b[3m                 \u001b[0m  \u001b[3m \u001b[0m\u001b[3mReferences\u001b[0m\u001b[3m \u001b[0m  \u001b[3msource_repo\u001b[0m: \u001b]8;id=629292;https://github.com/DHARPA-Project/kiara\u001b\\https://github.com/DHARPA-Project/kiara\u001b]8;;\u001b\\                                                      \n",
       " \u001b[3m                 \u001b[0m  \u001b[3m            \u001b[0m  \u001b[3mdocumentation\u001b[0m: \u001b]8;id=265664;https://dharpa.org/kiara_documentation/\u001b\\https://dharpa.org/kiara_documentation/\u001b]8;;\u001b\\                                                    \n",
       " \u001b[3m                 \u001b[0m                                                                                                                          \n",
       " \u001b[3mOperation details\u001b[0m                                                                                                                          \n",
       " \u001b[3m                 \u001b[0m  \u001b[3m \u001b[0m\u001b[3mDocumentation\u001b[0m\u001b[3m \u001b[0m  topic modelling pipeline                                                                               \n",
       " \u001b[3m                 \u001b[0m                                                                                                                          \n",
       " \u001b[3m                 \u001b[0m  \u001b[3m \u001b[0m\u001b[3mInputs       \u001b[0m\u001b[3m \u001b[0m                                                                                                         \n",
       " \u001b[3m                 \u001b[0m  \u001b[3m               \u001b[0m   \u001b[1m \u001b[0m\u001b[1mfield name                 \u001b[0m\u001b[1m \u001b[0m \u001b[1m \u001b[0m\u001b[1mtype  \u001b[0m\u001b[1m \u001b[0m \u001b[1m \u001b[0m\u001b[1mdescription                \u001b[0m\u001b[1m \u001b[0m \u001b[1m \u001b[0m\u001b[1mRequired\u001b[0m\u001b[1m \u001b[0m \u001b[1m \u001b[0m\u001b[1mDefault         \u001b[0m\u001b[1m \u001b[0m    \n",
       " \u001b[3m                 \u001b[0m  \u001b[3m               \u001b[0m   ──────────────────────────────────────────────────────────────────────────────────────────────────    \n",
       " \u001b[3m                 \u001b[0m  \u001b[3m               \u001b[0m   \u001b[3m \u001b[0m\u001b[3mfolder_path                \u001b[0m\u001b[3m \u001b[0m  string   The local path of the         \u001b[1myes\u001b[0m        -- no default --     \n",
       " \u001b[3m                 \u001b[0m  \u001b[3m               \u001b[0m   \u001b[3m                             \u001b[0m           folder to import.                                             \n",
       " \u001b[3m                 \u001b[0m  \u001b[3m               \u001b[0m   \u001b[3m \u001b[0m\u001b[3madd_metadata__column_name  \u001b[0m\u001b[3m \u001b[0m  string   The column containing         \u001b[1myes\u001b[0m        -- no default --     \n",
       " \u001b[3m                 \u001b[0m  \u001b[3m               \u001b[0m   \u001b[3m                             \u001b[0m           metadata. In order to work,                                   \n",
       " \u001b[3m                 \u001b[0m  \u001b[3m               \u001b[0m   \u001b[3m                             \u001b[0m           file names need to comply                                     \n",
       " \u001b[3m                 \u001b[0m  \u001b[3m               \u001b[0m   \u001b[3m                             \u001b[0m           with LCCN pattern                                             \n",
       " \u001b[3m                 \u001b[0m  \u001b[3m               \u001b[0m   \u001b[3m                             \u001b[0m           '/sn86069873/1900-01-05/'                                     \n",
       " \u001b[3m                 \u001b[0m  \u001b[3m               \u001b[0m   \u001b[3m                             \u001b[0m           containing publication                                        \n",
       " \u001b[3m                 \u001b[0m  \u001b[3m               \u001b[0m   \u001b[3m                             \u001b[0m           reference and date.                                           \n",
       " \u001b[3m                 \u001b[0m  \u001b[3m               \u001b[0m   \u001b[3m \u001b[0m\u001b[3madd_publication_name__table\u001b[0m\u001b[3m \u001b[0m  table    The table that we need to     \u001b[1myes\u001b[0m        -- no default --     \n",
       " \u001b[3m                 \u001b[0m  \u001b[3m               \u001b[0m   \u001b[3m \u001b[0m\u001b[3m_input                     \u001b[0m\u001b[3m \u001b[0m           augment by mapping column                                     \n",
       " \u001b[3m                 \u001b[0m  \u001b[3m               \u001b[0m   \u001b[3m                             \u001b[0m           values (for example an id                                     \n",
       " \u001b[3m                 \u001b[0m  \u001b[3m               \u001b[0m   \u001b[3m                             \u001b[0m           with a name) in a new                                         \n",
       " \u001b[3m                 \u001b[0m  \u001b[3m               \u001b[0m   \u001b[3m                             \u001b[0m           column.                                                       \n",
       " \u001b[3m                 \u001b[0m  \u001b[3m               \u001b[0m   \u001b[3m \u001b[0m\u001b[3madd_publication_name__colum\u001b[0m\u001b[3m \u001b[0m  string   The column that needs         \u001b[1myes\u001b[0m        -- no default --     \n",
       " \u001b[3m                 \u001b[0m  \u001b[3m               \u001b[0m   \u001b[3m \u001b[0m\u001b[3mn_name                     \u001b[0m\u001b[3m \u001b[0m           mapping.                                                      \n",
       " \u001b[3m                 \u001b[0m  \u001b[3m               \u001b[0m   \u001b[3m \u001b[0m\u001b[3madd_publication_name__mappi\u001b[0m\u001b[3m \u001b[0m  list     list containing 2 lists:      \u001b[1myes\u001b[0m        -- no default --     \n",
       " \u001b[3m                 \u001b[0m  \u001b[3m               \u001b[0m   \u001b[3m \u001b[0m\u001b[3mng_keys                    \u001b[0m\u001b[3m \u001b[0m           1st list contains values to                                   \n",
       " \u001b[3m                 \u001b[0m  \u001b[3m               \u001b[0m   \u001b[3m                             \u001b[0m           replace, and the second the                                   \n",
       " \u001b[3m                 \u001b[0m  \u001b[3m               \u001b[0m   \u001b[3m                             \u001b[0m           ones they should be                                           \n",
       " \u001b[3m                 \u001b[0m  \u001b[3m               \u001b[0m   \u001b[3m                             \u001b[0m           replaced with.                                                \n",
       " \u001b[3m                 \u001b[0m  \u001b[3m               \u001b[0m   \u001b[3m \u001b[0m\u001b[3madd_publication_name__outpu\u001b[0m\u001b[3m \u001b[0m  string   name of the newly created     \u001b[1myes\u001b[0m        -- no default --     \n",
       " \u001b[3m                 \u001b[0m  \u001b[3m               \u001b[0m   \u001b[3m \u001b[0m\u001b[3mt_col_name                 \u001b[0m\u001b[3m \u001b[0m           column                                                        \n",
       " \u001b[3m                 \u001b[0m  \u001b[3m               \u001b[0m                                                                                                         \n",
       " \u001b[3m                 \u001b[0m                                                                                                                          \n",
       " \u001b[3m                 \u001b[0m  \u001b[3m \u001b[0m\u001b[3mOutputs      \u001b[0m\u001b[3m \u001b[0m                                                                                                         \n",
       " \u001b[3m                 \u001b[0m  \u001b[3m               \u001b[0m   \u001b[1m \u001b[0m\u001b[1mfield name       \u001b[0m\u001b[1m \u001b[0m \u001b[1m \u001b[0m\u001b[1mtype \u001b[0m\u001b[1m \u001b[0m \u001b[1m \u001b[0m\u001b[1mdescription                                                         \u001b[0m\u001b[1m \u001b[0m    \n",
       " \u001b[3m                 \u001b[0m  \u001b[3m               \u001b[0m   ──────────────────────────────────────────────────────────────────────────────────────────────────    \n",
       " \u001b[3m                 \u001b[0m  \u001b[3m               \u001b[0m   \u001b[3m \u001b[0m\u001b[3mcorpus_table     \u001b[0m\u001b[3m \u001b[0m  table   The result value.                                                        \n",
       " \u001b[3m                 \u001b[0m  \u001b[3m               \u001b[0m   \u001b[3m \u001b[0m\u001b[3mpublications_refs\u001b[0m\u001b[3m \u001b[0m  list    List of unique publications refs in table.                               \n",
       " \u001b[3m                 \u001b[0m  \u001b[3m               \u001b[0m                                                                                                         \n",
       " \u001b[3m                 \u001b[0m                                                                                                                          \n",
       "                                                                                                                                            \n"
      ]
     },
     "execution_count": 13,
     "metadata": {},
     "output_type": "execute_result"
    }
   ],
   "source": [
    "api.get_operation_info('tm_pipeline')"
   ]
  },
  {
   "cell_type": "code",
   "execution_count": 14,
   "metadata": {},
   "outputs": [],
   "source": [
    "value = api.get_value(value='tm_onboard_test220014')"
   ]
  },
  {
   "cell_type": "code",
   "execution_count": 34,
   "metadata": {},
   "outputs": [],
   "source": [
    "graph = value.lineage.module_graph\n",
    "result = json_graph.node_link_data(graph)"
   ]
  },
  {
   "cell_type": "markdown",
   "metadata": {},
   "source": [
    "# having a look at lineage data"
   ]
  },
  {
   "cell_type": "code",
   "execution_count": 35,
   "metadata": {},
   "outputs": [
    {
     "data": {
      "text/plain": [
       "{'directed': True,\n",
       " 'multigraph': False,\n",
       " 'graph': {},\n",
       " 'nodes': [{'data_type': 'table',\n",
       "   'label': '[this value]',\n",
       "   'node_type': 'value',\n",
       "   'data_type_config': {},\n",
       "   'level': 1,\n",
       "   'id': 'value:8a45f453-78a5-452f-bb0f-6b95f6670e75'},\n",
       "  {'module_type': 'create.table',\n",
       "   'module_config': {'constants': {},\n",
       "    'defaults': {},\n",
       "    'source_type': 'text_file_bundle',\n",
       "    'target_type': 'table',\n",
       "    'ignore_errors': False},\n",
       "   'label': 'create.table',\n",
       "   'node_type': 'operation',\n",
       "   'level': 3,\n",
       "   'id': 'module:zdpuAkvir7kaUZx7k6tC6oqEvMBMarnRoPECoCDwjimgpENFi'},\n",
       "  {'module_type': 'import.file_bundle',\n",
       "   'module_config': {'constants': {}, 'defaults': {}},\n",
       "   'label': 'import.file_bundle',\n",
       "   'node_type': 'operation',\n",
       "   'level': 5,\n",
       "   'id': 'module:zdpuAwrXy9vrEemoWmubwgbppfuaoFGtq3Ja4saVJtJzxhEKv'},\n",
       "  {'label': 'path (string)',\n",
       "   'node_type': 'value',\n",
       "   'data_type': 'string',\n",
       "   'data_type_config': {},\n",
       "   'level': 6,\n",
       "   'id': 'value:a2d78405-1440-4a3f-ba9a-86b25851d3ae'}],\n",
       " 'links': [{'id': 'value:8a45f453-78a5-452f-bb0f-6b95f6670e75:module:zdpuAkvir7kaUZx7k6tC6oqEvMBMarnRoPECoCDwjimgpENFi',\n",
       "   'field_name': 'table',\n",
       "   'label': 'table (table)',\n",
       "   'source': 'module:zdpuAkvir7kaUZx7k6tC6oqEvMBMarnRoPECoCDwjimgpENFi',\n",
       "   'target': 'value:8a45f453-78a5-452f-bb0f-6b95f6670e75'},\n",
       "  {'id': 'module:zdpuAkvir7kaUZx7k6tC6oqEvMBMarnRoPECoCDwjimgpENFi:text_file_bundle',\n",
       "   'field_name': 'text_file_bundle',\n",
       "   'label': 'text_file_bundle (file_bundle)',\n",
       "   'source': 'module:zdpuAwrXy9vrEemoWmubwgbppfuaoFGtq3Ja4saVJtJzxhEKv',\n",
       "   'target': 'module:zdpuAkvir7kaUZx7k6tC6oqEvMBMarnRoPECoCDwjimgpENFi'},\n",
       "  {'id': 'module:zdpuAwrXy9vrEemoWmubwgbppfuaoFGtq3Ja4saVJtJzxhEKv:value:a2d78405-1440-4a3f-ba9a-86b25851d3ae',\n",
       "   'field_name': 'path',\n",
       "   'label': 'path (string)',\n",
       "   'source': 'value:a2d78405-1440-4a3f-ba9a-86b25851d3ae',\n",
       "   'target': 'module:zdpuAwrXy9vrEemoWmubwgbppfuaoFGtq3Ja4saVJtJzxhEKv'}]}"
      ]
     },
     "execution_count": 35,
     "metadata": {},
     "output_type": "execute_result"
    }
   ],
   "source": [
    "result"
   ]
  },
  {
   "cell_type": "markdown",
   "metadata": {},
   "source": [
    "## II. Add metadata"
   ]
  },
  {
   "cell_type": "markdown",
   "metadata": {},
   "source": [
    "This optional step retrieves metadata from file names for file names that are formatted as per LCCN title information and publication date (yyyy-mm-dd) format, like so: /publication_reference/date/ (e.g. /sn86069873/1900-01-05/)"
   ]
  },
  {
   "cell_type": "markdown",
   "metadata": {},
   "source": [
    "### 1. Retrieve publications references from file names"
   ]
  },
  {
   "cell_type": "code",
   "execution_count": 31,
   "metadata": {},
   "outputs": [],
   "source": [
    "col = 'file_name'"
   ]
  },
  {
   "cell_type": "code",
   "execution_count": 32,
   "metadata": {},
   "outputs": [],
   "source": [
    "table = api.get_value(alias)"
   ]
  },
  {
   "cell_type": "code",
   "execution_count": 33,
   "metadata": {},
   "outputs": [],
   "source": [
    "metadata_pub_ref_res = api.run_job(operation=\"kiara_plugin.playground.playground.mariella.file_name_metadata\", inputs={'column_name':col, 'table_input':table})"
   ]
  },
  {
   "cell_type": "code",
   "execution_count": 34,
   "metadata": {},
   "outputs": [
    {
     "data": {
      "text/plain": [
       "['2012271201', 'sn85054967']"
      ]
     },
     "execution_count": 34,
     "metadata": {},
     "output_type": "execute_result"
    }
   ],
   "source": [
    "metadata_pub_ref_res['publications_ref'].data.list_data"
   ]
  },
  {
   "cell_type": "markdown",
   "metadata": {},
   "source": [
    "### 2. Map publications references with publications names"
   ]
  }
 ],
 "metadata": {
  "kernelspec": {
   "display_name": "Python 3.9.13",
   "language": "python",
   "name": "python3"
  },
  "language_info": {
   "codemirror_mode": {
    "name": "ipython",
    "version": 3
   },
   "file_extension": ".py",
   "mimetype": "text/x-python",
   "name": "python",
   "nbconvert_exporter": "python",
   "pygments_lexer": "ipython3",
   "version": "3.9.13"
  },
  "orig_nbformat": 4,
  "vscode": {
   "interpreter": {
    "hash": "b30b19d14513998bf6435cf6b61e8d78f0474c5d6f05575dfabfab9412b659a4"
   }
  }
 },
 "nbformat": 4,
 "nbformat_minor": 2
}
